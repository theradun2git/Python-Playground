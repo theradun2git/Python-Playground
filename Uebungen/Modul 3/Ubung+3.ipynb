{
 "cells": [
  {
   "cell_type": "markdown",
   "metadata": {},
   "source": [
    "# Einführung\n",
    "\n",
    "In Notebooks können Textbeschreibungen, Code und Code-Ausgaben gespeichert werden. Alles ist in Zellen aufgeteilt. Es gibt Textzellen und Codezellen. Zu den Codezellen gibt es auch den entsprchenden Output. Dieser wird aber nur angezeigt, wenn die Codezelle auch ausgeführt wurde. Der Code wird ähnlich wie im REPL Modus Schritt für Schritt ausgeführt. Hier ist ein Schritt immer eine Zelle. \n",
    "\n",
    "Um eine Codezelle auszuführen, muss der Cursor in der Zelle sein. Mit ```Ctrl+Enter``` (oder mit dem \"Play\" Knopf auf der linken Seite) wird der Code ausgeführt.\n",
    "\n",
    "Teste das mit der nächsten Zelle."
   ]
  },
  {
   "cell_type": "code",
   "execution_count": null,
   "metadata": {},
   "outputs": [],
   "source": [
    "länge = 2\n",
    "print(f\"Die Länge ist {länge}\")"
   ]
  },
  {
   "cell_type": "markdown",
   "metadata": {},
   "source": [
    "Wenn alles geklappt hat, sollte unter der Codezelle nun der Text \"Die Länge ist 2\" stehen. Das ist der Output der Codezelle. Wie im REPL Modus wird die Stringdarstellung der letzten Zeile auch als Output betrachtet, wie in der nächsten Codezelle zu sehen ist."
   ]
  },
  {
   "cell_type": "code",
   "execution_count": null,
   "metadata": {},
   "outputs": [],
   "source": [
    "breite = 20\n",
    "print(\"Jetzt kennen wir auch die Breite...\")\n",
    "ausgabe_text = f\"Die Länge ist {länge} und die Breite {breite}\"\n",
    "ausgabe_text"
   ]
  },
  {
   "cell_type": "markdown",
   "metadata": {},
   "source": [
    "Beachte, dass die Zuweisung alleine zu keiner Ausgabe geführt hätte, wie die folgende Codezelle zeigt. Die Zeile vier ist also verantwortlich für die Ausgabe am Schluss."
   ]
  },
  {
   "cell_type": "code",
   "execution_count": null,
   "metadata": {},
   "outputs": [],
   "source": [
    "ausgabe_mit_berechung_text = f\"Die Länge ist {länge} und die Breite {breite} ergeben die Fläche {länge*breite}\""
   ]
  },
  {
   "cell_type": "markdown",
   "metadata": {},
   "source": [
    "Die letzten beiden Codezellen, zeigen auch, dass der Zustand (Variablen, Funktionen, ...) wie im REPL Modus gespeichert wird. Denn die Variable `länge` wurde in den letzten beiden Codezellen nicht definiert. \n",
    "\n",
    "Neben einfachen Textausgaben, lassen sich auch Bilder und Plots erstellen. Der folgende Beispiel-Code verwendet die Bibliothek `matplotlib`, um zu zeigen, dass auch Bilder in Notebooks verwendet werden können. `matplotlib` ist nicht prüfungsrelevant."
   ]
  },
  {
   "cell_type": "code",
   "execution_count": null,
   "metadata": {},
   "outputs": [],
   "source": [
    "import matplotlib.pyplot as plt\n",
    "\n",
    "fig, ax = plt.subplots()\n",
    "\n",
    "fruits = ['apple', 'blueberry', 'cherry', 'orange']\n",
    "counts = [40, 100, 30, 55]\n",
    "bar_labels = ['red', 'blue', '_red', 'orange']\n",
    "bar_colors = ['tab:red', 'tab:blue', 'tab:red', 'tab:orange']\n",
    "\n",
    "ax.bar(fruits, counts, label=bar_labels, color=bar_colors)\n",
    "\n",
    "ax.set_ylabel('fruit supply')\n",
    "ax.set_title('Fruit supply by kind and color')\n",
    "ax.legend(title='Fruit color')\n",
    "\n",
    "plt.show()"
   ]
  },
  {
   "attachments": {},
   "cell_type": "markdown",
   "metadata": {},
   "source": [
    "# Aufgaben zu Funktionen und Collections\n",
    "\n",
    "In dieser Übungsserie werden die ersten eigenen Funktionen geschrieben. Eine eigene Funktion schreibt man wie folgt:\n",
    "```python\n",
    "def my_first_function(argument):\n",
    "    print(argument)\n",
    "```\n",
    "\n",
    "Nach dieser sogenannten Funktionsdefinition, kann die Funktion aufgerufen werden.\n",
    "```python\n",
    "my_first_function('hello')\n",
    ">>> hello\n",
    "```\n",
    "\n",
    "Diese Funktion nimmt genau 1 Augument entgegen. Wir werden sehen, dass auch Funktionen ohne oder mehreren Argumenten definiert werden können.\n",
    "\n",
    "Wir testen das in der nächsten Zelle."
   ]
  },
  {
   "cell_type": "code",
   "execution_count": null,
   "metadata": {},
   "outputs": [],
   "source": [
    "def my_first_function(argument):\n",
    "    print(argument)\n",
    "    \n",
    "my_first_function('hello')"
   ]
  },
  {
   "attachments": {},
   "cell_type": "markdown",
   "metadata": {},
   "source": [
    "Eine Funktion kann mit `return` auch Werte zurückgeben. "
   ]
  },
  {
   "cell_type": "code",
   "execution_count": null,
   "metadata": {},
   "outputs": [],
   "source": [
    "def my_function_with_return(argument):\n",
    "    squared = argument * argument\n",
    "    return squared\n",
    "\n",
    "my_function_with_return(9)"
   ]
  },
  {
   "attachments": {},
   "cell_type": "markdown",
   "metadata": {},
   "source": [
    "Überlege dir bei den folgenden Aufgaben auch Testfälle, um deine Funktion zu prüfen und zu zeigen, dass alles wie erwartet funktioniert."
   ]
  },
  {
   "attachments": {},
   "cell_type": "markdown",
   "metadata": {},
   "source": [
    "## Erster und letzter Buchstabe\n",
    "Schreibe eine Funktion `first_last_letter(text)` die von einem String den ersten **und** letzten Buchstabe zurück gibt. \n",
    "\n",
    "Tipp: Mehrere Rückgabewerte können hinter `return` und kommagetrennt aufgelistet werden z.B. `return 2,\"a\",my_var`.\n",
    "\n",
    "**Beispiel**\n",
    "```python\n",
    "first_last_letter('hello')\n",
    ">>> ('h','o')\n",
    "```"
   ]
  },
  {
   "cell_type": "code",
   "execution_count": null,
   "metadata": {},
   "outputs": [],
   "source": []
  },
  {
   "cell_type": "markdown",
   "metadata": {},
   "source": [
    "Erstelle eine verbesserte Funktion, die Sonderfälle wie leere Strings oder `None` behandlen kann. Verwende dazu `if-elif-else`."
   ]
  },
  {
   "cell_type": "code",
   "execution_count": null,
   "metadata": {},
   "outputs": [],
   "source": []
  },
  {
   "attachments": {},
   "cell_type": "markdown",
   "metadata": {},
   "source": [
    "## Initialen\n",
    "Schreibe eine Funktion `abbreviate(name)` welche aus einem String, bestehend aus Vorname (evtl. Mittelnamen) und Nachname, die Initialen herausholt und diese durch einen `.` getrennt zurück gibt.\n",
    "\n",
    "Tipp: String sind ähnlich zu Listen. Was macht der `[]` Zugriffsoperator bei Strings?\n",
    "\n",
    "**Beispiel**\n",
    "```python\n",
    "abbreviate('John william doe')\n",
    ">> 'J.w.d.'\n",
    "```"
   ]
  },
  {
   "cell_type": "code",
   "execution_count": null,
   "metadata": {},
   "outputs": [],
   "source": []
  },
  {
   "cell_type": "markdown",
   "metadata": {},
   "source": [
    "Schreibe eine Funktion `abbreviate_upper(name)`, welche wie `abbreviate(name)` funktioniert nur, dass alle Initialen immer als Grossbuchstaben zurückgegeben werden. \n",
    "\n",
    "Tipps: Du kannst die Funktion `abbreviate(name)` hier mit eine Funktionsaufruf wiederverwenden. Wir haben bereits die String Funktion `lower()` kennengelernt; was machte diese? Wie könnte die Funktion heissen, welche für diese Aufgabe benötigt wird?\n",
    "\n",
    "**Beispiel**\n",
    "```python\n",
    "abbreviate_upper('John william doe')\n",
    ">> 'J.W.D.'\n",
    "```"
   ]
  },
  {
   "cell_type": "code",
   "execution_count": null,
   "metadata": {},
   "outputs": [],
   "source": []
  },
  {
   "cell_type": "markdown",
   "metadata": {},
   "source": [
    "## Absteigende Folge von Zahlen\n",
    "Implementiere eine Funktion `descending_sequence(end, count)` die aus zwei Zahlen eine absteigende Folge von Zahlen bildet und diese als Liste zurück gibt. Die Liste soll so lang sein wie das zweite Argument. Die erste Zahl in der Liste ist das erste Argument.\n",
    "\n",
    "**Beispiel**\n",
    "```python\n",
    "descending_sequence(7,3)\n",
    ">> [7,6,5]\n",
    "```"
   ]
  },
  {
   "cell_type": "code",
   "execution_count": null,
   "metadata": {},
   "outputs": [],
   "source": []
  },
  {
   "cell_type": "markdown",
   "metadata": {},
   "source": [
    "## Vorzeichenwechsel\n",
    "Als nächstes schreiben wir eine Funktion `minus(list_of_numbers)` welche eine Liste mit Zahlen als Argument entgegen nimmt und bei allen Zahlen das Vorzeichen wechselt. Die Funktion gibt nichts zurück, da die Liste direkt verändert werden soll. \n",
    "\n",
    "**Beispiel**\n",
    "```python\n",
    "my_list = [2,-3,-10]\n",
    "minus(my_list)\n",
    "my_list\n",
    ">> [-2,3,10]\n",
    "```"
   ]
  },
  {
   "cell_type": "code",
   "execution_count": null,
   "metadata": {},
   "outputs": [],
   "source": []
  },
  {
   "attachments": {},
   "cell_type": "markdown",
   "metadata": {},
   "source": [
    "## Summe ohne Vorzeichen\n",
    "Schreibe eine Funktion ```no_sign_sum(numbers)``` welche eine Liste von Zahlen summiert und dabei das Vorzeichen jeder Zahl ignoriert.\n",
    "\n",
    "Tipp: Verwende die Funktion ```abs```\n",
    "\n",
    "**Beispiel:**\n",
    "```python\n",
    "x = no_sign_sum([2,3,-3,-1])\n",
    "x\n",
    ">>> 9\n",
    "```"
   ]
  },
  {
   "cell_type": "code",
   "execution_count": null,
   "metadata": {},
   "outputs": [],
   "source": []
  },
  {
   "attachments": {},
   "cell_type": "markdown",
   "metadata": {},
   "source": [
    "## Grösste und kleinste Zahl\n",
    "Schreibe eine Funktion `min_max(numbers)` welche das grösste und das kleinste Element aus einer Liste von Zahlen zurück gibt:\n",
    "\n",
    "**Beispiel:**\n",
    "\n",
    "```python\n",
    "limits = min_max([10, 15, 100, -3])\n",
    "limits\n",
    ">>> (-3, 100)\n",
    "```"
   ]
  },
  {
   "cell_type": "code",
   "execution_count": null,
   "metadata": {},
   "outputs": [],
   "source": []
  },
  {
   "cell_type": "markdown",
   "metadata": {},
   "source": [
    "## Monats Zahl zu Namen\n",
    "Erstelle eine Funktion `month_name(month)`. Diese gibt für einen Monat den zugehörigen Namen zurück. Die Monate werden als Zahlen übergeben.\n",
    "\n",
    "**Beispiel**\n",
    "```python\n",
    "month_name(2)\n",
    ">> 'February'\n",
    "```"
   ]
  },
  {
   "cell_type": "code",
   "execution_count": null,
   "metadata": {},
   "outputs": [],
   "source": []
  },
  {
   "cell_type": "markdown",
   "metadata": {},
   "source": [
    "## Monat zu Jahreszeit\n",
    "Schreibe eine Funktion `season(month)`. Diese gibt für einen Monat die zugehörige Jahreszeit als String zurück.\n",
    "\n",
    "Hierzu kannst du die Funktion `quarter(month)` verwenden. Diese berechnet aus einem Monat das zugehörige Quartal. Die Monate werden als Zahlen übergeben.\n",
    "\n",
    "Beachte, dass die Funktion `quarter(month)` in einer separaten Zelle steht. Damit diese Funktion verwendet werden kann, muss die Zelle ausgeführt worden sein.\n",
    "\n",
    "**Beispiel**\n",
    "```python\n",
    "season(3)\n",
    ">> 'Spring'\n",
    "```\n",
    "\n"
   ]
  },
  {
   "cell_type": "code",
   "execution_count": 1,
   "metadata": {},
   "outputs": [],
   "source": [
    "def quarter(month):\n",
    "    return (month%12)//3"
   ]
  },
  {
   "cell_type": "code",
   "execution_count": null,
   "metadata": {},
   "outputs": [],
   "source": []
  },
  {
   "cell_type": "markdown",
   "metadata": {},
   "source": [
    "## Tabellenpunkte\n",
    "Berechne mit einer Funktion `points(results)` für ein Fussball Team die Summe der Punkte aus allen Spielen. Ein Spiel wird als String in der Form `<Tore Team>:<Tore Gegner>` abgebildet. Für die Anzahl Punkte aus einem Spiel, gilt die folgende Regel:\n",
    "\n",
    "* Sieg: 3\n",
    "* Unentschieden: 1\n",
    "* Niederlage: 0\n",
    "\n",
    "Alle Spiele der Saison sind in einer Liste zusammen gefasst.\n",
    "\n",
    "**Beispiel**\n",
    "```python\n",
    "points(['13:1','2:2','0:1']) # 1x Gewonnen, 1x Unentschieden, 1x Niederlage\n",
    ">> 4\n",
    "```"
   ]
  },
  {
   "cell_type": "code",
   "execution_count": null,
   "metadata": {},
   "outputs": [],
   "source": []
  },
  {
   "attachments": {},
   "cell_type": "markdown",
   "metadata": {},
   "source": [
    "## Länder und Hauptstädte\n",
    "Erstelle zwei gleich lange Listen:\n",
    "\n",
    "Die erste Liste enthält Ländernnamen\n",
    "`countries = ['France', 'USA', ...]`\n",
    "\n",
    "Die zweite die zugehörigen Hauptstädte:\n",
    "`capitals = ['Paris', 'Washington', ...]`\n",
    "\n",
    "Der Index für das Land und seine Hauptstadt müssen gleich sein, d.h.\n",
    "\n",
    "`countries[0] --> 'France'`\n",
    "\n",
    "`capitals[0] --> 'Paris'`\n",
    "\n",
    "Schreibe die Funktion `get_capital(country, countries, capitals)` mit der für ein Land die Hauptstadt zurückgegeben wird.\n",
    "Später sehen wir, wie dies mit *Dictionaries* einfacher gelöst wird."
   ]
  },
  {
   "cell_type": "code",
   "execution_count": null,
   "metadata": {},
   "outputs": [],
   "source": [
    "countries = ['France', 'USA', 'Italy']\n",
    "capitals = ... # TODO\n",
    "print(countries)\n",
    "print(capitals)"
   ]
  },
  {
   "cell_type": "code",
   "execution_count": null,
   "metadata": {},
   "outputs": [],
   "source": [
    "def get_capital(country, countries, capitals):\n",
    "    ... # TODO\n",
    "\n",
    "country = 'Italy'\n",
    "captial_of_fr = get_capital(country, countries, capitals)\n",
    "print(f'captial of {country} is {captial_of_fr}')"
   ]
  },
  {
   "attachments": {},
   "cell_type": "markdown",
   "metadata": {},
   "source": [
    "### Dictionary\n",
    "Neben Listen sind Dictionaries die 2. wichtigste Datenstruktur in Python. Sie erlauben Werte zusammen mit einem Schlüssel abzulegen.\n",
    "Über den Schlüssel können die Werte (falls vorhanden) nachgeschlagen werden.\n",
    "\n",
    "Erstelle einen `dict` für die folgenden Länder und Hauptstädte:\n",
    "\n",
    "| *key* | *value* |\n",
    "|:--|:--|\n",
    "| United Kingdom | London |\n",
    "| France | Paris |\n",
    "| USA | Washington |\n",
    "| Japan | Tokyo |"
   ]
  },
  {
   "cell_type": "markdown",
   "metadata": {},
   "source": [
    "Initialisiere das Dictionary `capitals`"
   ]
  },
  {
   "cell_type": "code",
   "execution_count": null,
   "metadata": {},
   "outputs": [],
   "source": []
  },
  {
   "cell_type": "markdown",
   "metadata": {},
   "source": [
    "Welche Länder sind in capitals?\n",
    "\n",
    "Tipp: Keys eines Dicts können mit `keys()` auf dem Dictionary abgefragt werden."
   ]
  },
  {
   "cell_type": "code",
   "execution_count": null,
   "metadata": {},
   "outputs": [],
   "source": []
  },
  {
   "cell_type": "markdown",
   "metadata": {},
   "source": [
    "Welche Hauptstädte sind in capitals?\n",
    "\n",
    "Tipp: Values eines Dicts können mit `values()` auf dem Dictionary abgefragt werden."
   ]
  },
  {
   "cell_type": "code",
   "execution_count": null,
   "metadata": {},
   "outputs": [],
   "source": []
  },
  {
   "cell_type": "markdown",
   "metadata": {},
   "source": [
    "Hole mit dem `[]`-Operator einzelne Hauptstädte aus capitals.\n",
    "\n",
    "Was passiert wenn ein ungültiger Key verwendet wird?\n",
    "\n",
    "Vergleiche den `[]`-Operator mit der `get(key)` Methode auf dem Dictionary, was ist der Unterschied?"
   ]
  },
  {
   "cell_type": "code",
   "execution_count": null,
   "metadata": {},
   "outputs": [],
   "source": []
  },
  {
   "cell_type": "markdown",
   "metadata": {},
   "source": [
    "Schreibe eine Funktion, die alle Länder und ihre Hauptstädte mit `print()` ausgibt."
   ]
  },
  {
   "cell_type": "code",
   "execution_count": null,
   "metadata": {},
   "outputs": [],
   "source": []
  },
  {
   "cell_type": "markdown",
   "metadata": {},
   "source": [
    "**Verwende von nun an immer `print_capitals` um die Hauptstädte auszugeben**\n",
    "\n",
    "Füge neue Hauptstädte in `capitals` ein.\n",
    "Dies kann auch mit dem []-Operator erledigt werden:\n",
    "\n",
    "```python\n",
    "a_dict[new_key] = new_value\n",
    "```\n",
    "\n",
    "Füge 1 neue Hauptstädt mit dem []-Operator ein."
   ]
  },
  {
   "cell_type": "code",
   "execution_count": null,
   "metadata": {},
   "outputs": [],
   "source": []
  },
  {
   "cell_type": "markdown",
   "metadata": {},
   "source": [
    "Weiter können auch neue Einträge mit `update()`\n",
    "\n",
    "```python\n",
    "a_dict.update(new_key=new_value)\n",
    "a_dict.update(another_dict)\n",
    "```\n",
    "\n",
    "eingefügt werden.\n",
    "\n",
    "Füge 1 weitere Hauptstadt mit dem `update` ein."
   ]
  },
  {
   "cell_type": "code",
   "execution_count": null,
   "metadata": {},
   "outputs": [],
   "source": []
  },
  {
   "cell_type": "markdown",
   "metadata": {},
   "source": [
    "Erstelle ein zweites Dictionary mit Länder und Städten und erweitere `capitals` mit diesem."
   ]
  },
  {
   "cell_type": "code",
   "execution_count": 3,
   "metadata": {},
   "outputs": [],
   "source": []
  },
  {
   "attachments": {},
   "cell_type": "markdown",
   "metadata": {},
   "source": [
    "Lösche Key und Value für ein Land aus `capitals`."
   ]
  },
  {
   "cell_type": "code",
   "execution_count": null,
   "metadata": {},
   "outputs": [],
   "source": []
  },
  {
   "attachments": {},
   "cell_type": "markdown",
   "metadata": {},
   "source": [
    "Lösche alle Keys und Values aus `capitals`."
   ]
  },
  {
   "cell_type": "code",
   "execution_count": null,
   "metadata": {},
   "outputs": [],
   "source": []
  }
 ],
 "metadata": {
  "kernelspec": {
   "display_name": "Python 3",
   "language": "python",
   "name": "python3"
  },
  "language_info": {
   "codemirror_mode": {
    "name": "ipython",
    "version": 3
   },
   "file_extension": ".py",
   "mimetype": "text/x-python",
   "name": "python",
   "nbconvert_exporter": "python",
   "pygments_lexer": "ipython3",
   "version": "3.13.1"
  }
 },
 "nbformat": 4,
 "nbformat_minor": 4
}
