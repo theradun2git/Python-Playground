{
 "cells": [
  {
   "cell_type": "markdown",
   "metadata": {},
   "source": [
    "# Einführung\n",
    "\n",
    "In Notebooks können Textbeschreibungen, Code und Code-Ausgaben gespeichert werden. Alles ist in Zellen aufgeteilt. Es gibt Textzellen und Codezellen. Zu den Codezellen gibt es auch den entsprchenden Output. Dieser wird aber nur angezeigt, wenn die Codezelle auch ausgeführt wurde. Der Code wird ähnlich wie im REPL Modus Schritt für Schritt ausgeführt. Hier ist ein Schritt immer eine Zelle. \n",
    "\n",
    "Um eine Codezelle auszuführen, muss der Cursor in der Zelle sein. Mit ```Ctrl+Enter``` (oder mit dem \"Play\" Knopf auf der linken Seite) wird der Code ausgeführt.\n",
    "\n",
    "Teste das mit der nächsten Zelle."
   ]
  },
  {
   "cell_type": "code",
   "execution_count": 1,
   "metadata": {},
   "outputs": [
    {
     "name": "stdout",
     "output_type": "stream",
     "text": [
      "Die Länge ist 2\n"
     ]
    }
   ],
   "source": [
    "länge = 2\n",
    "print(f\"Die Länge ist {länge}\")"
   ]
  },
  {
   "cell_type": "markdown",
   "metadata": {},
   "source": [
    "Wenn alles geklappt hat, sollte unter der Codezelle nun der Text \"Die Länge ist 2\" stehen. Das ist der Output der Codezelle. Wie im REPL Modus wird die Stringdarstellung der letzten Zeile auch als Output betrachtet, wie in der nächsten Codezelle zu sehen ist."
   ]
  },
  {
   "cell_type": "code",
   "execution_count": 2,
   "metadata": {},
   "outputs": [
    {
     "name": "stdout",
     "output_type": "stream",
     "text": [
      "Jetzt kennen wir auch die Breite...\n"
     ]
    },
    {
     "data": {
      "text/plain": [
       "'Die Länge ist 2 und die Breite 20'"
      ]
     },
     "execution_count": 2,
     "metadata": {},
     "output_type": "execute_result"
    }
   ],
   "source": [
    "breite = 20\n",
    "print(\"Jetzt kennen wir auch die Breite...\")\n",
    "ausgabe_text = f\"Die Länge ist {länge} und die Breite {breite}\"\n",
    "ausgabe_text"
   ]
  },
  {
   "cell_type": "markdown",
   "metadata": {},
   "source": [
    "Beachte, dass die Zuweisung alleine zu keiner Ausgabe geführt hätte, wie die folgende Codezelle zeigt. Die Zeile vier ist also verantwortlich für die Ausgabe am Schluss."
   ]
  },
  {
   "cell_type": "code",
   "execution_count": 3,
   "metadata": {},
   "outputs": [],
   "source": [
    "ausgabe_mit_berechung_text = f\"Die Länge ist {länge} und die Breite {breite} ergeben die Fläche {länge*breite}\""
   ]
  },
  {
   "cell_type": "markdown",
   "metadata": {},
   "source": [
    "Die letzten beiden Codezellen, zeigen auch, dass der Zustand (Variablen, Funktionen, ...) wie im REPL Modus gespeichert wird. Denn die Variable `länge` wurde in den letzten beiden Codezellen nicht definiert. \n",
    "\n",
    "Neben einfachen Textausgaben, lassen sich auch Bilder und Plots erstellen. Der folgende Beispiel-Code verwendet die Bibliothek `matplotlib`, um zu zeigen, dass auch Bilder in Notebooks verwendet werden können. `matplotlib` ist nicht prüfungsrelevant."
   ]
  },
  {
   "cell_type": "code",
   "execution_count": 4,
   "metadata": {},
   "outputs": [
    {
     "data": {
      "image/png": "[encoded data removed]",
      "text/plain": [
       "<Figure size 640x480 with 1 Axes>"
      ]
     },
     "metadata": {},
     "output_type": "display_data"
    }
   ],
   "source": [
    "import matplotlib.pyplot as plt\n",
    "\n",
    "fig, ax = plt.subplots()\n",
    "\n",
    "fruits = ['apple', 'blueberry', 'cherry', 'orange']\n",
    "counts = [40, 100, 30, 55]\n",
    "bar_labels = ['red', 'blue', '_red', 'orange']\n",
    "bar_colors = ['tab:red', 'tab:blue', 'tab:red', 'tab:orange']\n",
    "\n",
    "ax.bar(fruits, counts, label=bar_labels, color=bar_colors)\n",
    "\n",
    "ax.set_ylabel('fruit supply')\n",
    "ax.set_title('Fruit supply by kind and color')\n",
    "ax.legend(title='Fruit color')\n",
    "\n",
    "plt.show()"
   ]
  },
  {
   "attachments": {},
   "cell_type": "markdown",
   "metadata": {},
   "source": [
    "# Aufgaben zu Funktionen und Collections\n",
    "\n",
    "In dieser Übungsserie werden die ersten eigenen Funktionen geschrieben. Eine eigene Funktion schreibt man wie folgt:\n",
    "```python\n",
    "def my_first_function(argument):\n",
    "    print(argument)\n",
    "```\n",
    "\n",
    "Nach dieser sogenannten Funktionsdefinition, kann die Funktion aufgerufen werden.\n",
    "```python\n",
    "my_first_function('hello')\n",
    ">>> hello\n",
    "```\n",
    "\n",
    "Diese Funktion nimmt genau 1 Augument entgegen. Wir werden sehen, dass auch Funktionen ohne oder mehreren Argumenten definiert werden können.\n",
    "\n",
    "Wir testen das in der nächsten Zelle."
   ]
  },
  {
   "cell_type": "code",
   "execution_count": 5,
   "metadata": {},
   "outputs": [
    {
     "name": "stdout",
     "output_type": "stream",
     "text": [
      "hello\n"
     ]
    }
   ],
   "source": [
    "def my_first_function(argument):\n",
    "    print(argument)\n",
    "    \n",
    "my_first_function('hello')"
   ]
  },
  {
   "attachments": {},
   "cell_type": "markdown",
   "metadata": {},
   "source": [
    "Eine Funktion kann mit `return` auch Werte zurückgeben. "
   ]
  },
  {
   "cell_type": "code",
   "execution_count": 6,
   "metadata": {},
   "outputs": [
    {
     "data": {
      "text/plain": [
       "81"
      ]
     },
     "execution_count": 6,
     "metadata": {},
     "output_type": "execute_result"
    }
   ],
   "source": [
    "def my_function_with_return(argument):\n",
    "    squared = argument * argument\n",
    "    return squared\n",
    "\n",
    "my_function_with_return(9)"
   ]
  },
  {
   "attachments": {},
   "cell_type": "markdown",
   "metadata": {},
   "source": [
    "Überlege dir bei den folgenden Aufgaben auch Testfälle, um deine Funktion zu prüfen und zu zeigen, dass alles wie erwartet funktioniert."
   ]
  },
  {
   "attachments": {},
   "cell_type": "markdown",
   "metadata": {},
   "source": [
    "## Erster und letzter Buchstabe\n",
    "Schreibe eine Funktion `first_last_letter(text)` die von einem String den ersten **und** letzten Buchstabe zurück gibt. \n",
    "\n",
    "Tipp: Mehrere Rückgabewerte können hinter `return` und kommagetrennt aufgelistet werden z.B. `return 2,\"a\",my_var`.\n",
    "\n",
    "**Beispiel**\n",
    "```python\n",
    "first_last_letter('hello')\n",
    ">>> ('h','o')\n",
    "```"
   ]
  },
  {
   "cell_type": "code",
   "execution_count": 7,
   "metadata": {},
   "outputs": [
    {
     "name": "stdout",
     "output_type": "stream",
     "text": [
      "Der erste Buchstabe ist N, der letzte ist e\n"
     ]
    }
   ],
   "source": [
    "def first_last_letter(texteingabe):\n",
    "    \n",
    "    first_letter = texteingabe[0]\n",
    "    last_letter = texteingabe[-1]\n",
    "\n",
    "    return (f\"Der erste Buchstabe ist {first_letter}, der letzte ist {last_letter}\")\n",
    "\n",
    "print(first_last_letter(input(\"Bitte gib ein Wort ein: \")))"
   ]
  },
  {
   "cell_type": "markdown",
   "metadata": {},
   "source": [
    "Erstelle eine verbesserte Funktion, die Sonderfälle wie leere Strings oder `None` behandlen kann. Verwende dazu `if-elif-else`."
   ]
  },
  {
   "cell_type": "code",
   "execution_count": 19,
   "metadata": {},
   "outputs": [
    {
     "name": "stdout",
     "output_type": "stream",
     "text": [
      "Deine Eingabe lautet: Saturn \n",
      "Der erste Buchstabe ist S, der letzte ist n\n"
     ]
    }
   ],
   "source": [
    "def first_last_letter(texteingabe):\n",
    "    if texteingabe is None:\n",
    "        return None, None\n",
    "    elif len(texteingabe) == 0:\n",
    "        return (\"Keine Texteingabe festgestellt!\")\n",
    "    else:\n",
    "        first_letter = texteingabe[0]\n",
    "        last_letter = texteingabe[-1]\n",
    "\n",
    "    return (f\"Deine Eingabe lautet: {texteingabe} \\nDer erste Buchstabe ist {first_letter}, der letzte ist {last_letter}\")\n",
    "\n",
    "print(first_last_letter(input(\"Bitte gib ein Wort ein: \")))"
   ]
  },
  {
   "attachments": {},
   "cell_type": "markdown",
   "metadata": {},
   "source": [
    "## Initialen\n",
    "Schreibe eine Funktion `abbreviate(name)` welche aus einem String, bestehend aus Vorname (evtl. Mittelnamen) und Nachname, die Initialen herausholt und diese durch einen `.` getrennt zurück gibt.\n",
    "\n",
    "Tipp: String sind ähnlich zu Listen. Was macht der `[]` Zugriffsoperator bei Strings?\n",
    "\n",
    "**Beispiel**\n",
    "```python\n",
    "abbreviate('John william doe')\n",
    ">> 'J.w.d.'\n",
    "```"
   ]
  },
  {
   "cell_type": "code",
   "execution_count": null,
   "metadata": {},
   "outputs": [
    {
     "name": "stdout",
     "output_type": "stream",
     "text": [
      "J.w.d.\n"
     ]
    }
   ],
   "source": [
    "def abbreviate(vorname_name):\n",
    "    names = vorname_name.split()\n",
    "\n",
    "    initialen = '.'.join(name[0].upper() if i == 0 else name[0].lower() for i, name in enumerate(names)) + '.'\n",
    "    \n",
    "    return initialen\n",
    "\n",
    "print(abbreviate(input(\"Bitte gib deinen Vor- und Nachnamen ein: \")))"
   ]
  },
  {
   "cell_type": "markdown",
   "metadata": {},
   "source": [
    "Schreibe eine Funktion `abbreviate_upper(name)`, welche wie `abbreviate(name)` funktioniert nur, dass alle Initialen immer als Grossbuchstaben zurückgegeben werden. \n",
    "\n",
    "Tipps: Du kannst die Funktion `abbreviate(name)` hier mit eine Funktionsaufruf wiederverwenden. Wir haben bereits die String Funktion `lower()` kennengelernt; was machte diese? Wie könnte die Funktion heissen, welche für diese Aufgabe benötigt wird?\n",
    "\n",
    "**Beispiel**\n",
    "```python\n",
    "abbreviate_upper('John william doe')\n",
    ">> 'J.W.D.'\n",
    "```"
   ]
  },
  {
   "cell_type": "code",
   "execution_count": null,
   "metadata": {},
   "outputs": [],
   "source": [
    "def abbreviate(vorname_name):\n",
    "    names = vorname_name.split()\n",
    "\n",
    "    initialen = '.'.join(name[0].upper() for name in names) + '.'\n",
    "    \n",
    "    return initialen\n",
    "\n",
    "print(abbreviate(input(\"Bitte gib deinen Vor- und Nachnamen ein: \")))"
   ]
  },
  {
   "cell_type": "markdown",
   "metadata": {},
   "source": [
    "## Absteigende Folge von Zahlen\n",
    "Implementiere eine Funktion `descending_sequence(end, count)` die aus zwei Zahlen eine absteigende Folge von Zahlen bildet und diese als Liste zurück gibt. Die Liste soll so lang sein wie das zweite Argument. Die erste Zahl in der Liste ist das erste Argument.\n",
    "\n",
    "**Beispiel**\n",
    "```python\n",
    "descending_sequence(7,3)\n",
    ">> [7,6,5]\n",
    "```"
   ]
  },
  {
   "cell_type": "code",
   "execution_count": 17,
   "metadata": {},
   "outputs": [
    {
     "name": "stdout",
     "output_type": "stream",
     "text": [
      "[7, 6, 5]\n"
     ]
    }
   ],
   "source": [
    "def descending_sequence(end, count):\n",
    "    return [end - i for i in range(count)]\n",
    "\n",
    "print(descending_sequence(7, 3))"
   ]
  },
  {
   "cell_type": "markdown",
   "metadata": {},
   "source": [
    "## Vorzeichenwechsel\n",
    "Als nächstes schreiben wir eine Funktion `minus(list_of_numbers)` welche eine Liste mit Zahlen als Argument entgegen nimmt und bei allen Zahlen das Vorzeichen wechselt. Die Funktion gibt nichts zurück, da die Liste direkt verändert werden soll. \n",
    "\n",
    "**Beispiel**\n",
    "```python\n",
    "my_list = [2,-3,-10]\n",
    "minus(my_list)\n",
    "my_list\n",
    ">> [-2,3,10]\n",
    "```"
   ]
  },
  {
   "cell_type": "code",
   "execution_count": 19,
   "metadata": {},
   "outputs": [
    {
     "name": "stdout",
     "output_type": "stream",
     "text": [
      "[-2, 3, 10]\n"
     ]
    }
   ],
   "source": [
    "def minus(list_of_numbers):\n",
    "    for i in range(len(list_of_numbers)):\n",
    "        list_of_numbers[i] = -list_of_numbers[i]\n",
    "\n",
    "my_list = [2, -3, -10]\n",
    "minus(my_list)\n",
    "print(my_list)"
   ]
  },
  {
   "attachments": {},
   "cell_type": "markdown",
   "metadata": {},
   "source": [
    "## Summe ohne Vorzeichen\n",
    "Schreibe eine Funktion ```no_sign_sum(numbers)``` welche eine Liste von Zahlen summiert und dabei das Vorzeichen jeder Zahl ignoriert.\n",
    "\n",
    "Tipp: Verwende die Funktion ```abs```\n",
    "\n",
    "**Beispiel:**\n",
    "```python\n",
    "x = no_sign_sum([2,3,-3,-1])\n",
    "x\n",
    ">>> 9\n",
    "```"
   ]
  },
  {
   "cell_type": "code",
   "execution_count": 20,
   "metadata": {},
   "outputs": [
    {
     "name": "stdout",
     "output_type": "stream",
     "text": [
      "9\n"
     ]
    }
   ],
   "source": [
    "def no_sign_sum(numbers):\n",
    "    return sum(abs(number) for number in numbers)\n",
    "\n",
    "x = no_sign_sum([2, 3, -3, -1])\n",
    "print(x)"
   ]
  },
  {
   "attachments": {},
   "cell_type": "markdown",
   "metadata": {},
   "source": [
    "## Grösste und kleinste Zahl\n",
    "Schreibe eine Funktion `min_max(numbers)` welche das grösste und das kleinste Element aus einer Liste von Zahlen zurück gibt:\n",
    "\n",
    "**Beispiel:**\n",
    "\n",
    "```python\n",
    "limits = min_max([10, 15, 100, -3])\n",
    "limits\n",
    ">>> (-3, 100)\n",
    "```"
   ]
  },
  {
   "cell_type": "code",
   "execution_count": 21,
   "metadata": {},
   "outputs": [
    {
     "name": "stdout",
     "output_type": "stream",
     "text": [
      "(-3, 100)\n"
     ]
    }
   ],
   "source": [
    "def min_max(numbers):\n",
    "    if not numbers:\n",
    "        raise ValueError(\"Die Liste darf nicht leer sein.\")\n",
    "    return (min(numbers), max(numbers))\n",
    "\n",
    "min_max_numbers = min_max([10, 15, 100, -3])\n",
    "print(min_max_numbers)"
   ]
  },
  {
   "cell_type": "markdown",
   "metadata": {},
   "source": [
    "## Monats Zahl zu Namen\n",
    "Erstelle eine Funktion `month_name(month)`. Diese gibt für einen Monat den zugehörigen Namen zurück. Die Monate werden als Zahlen übergeben.\n",
    "\n",
    "**Beispiel**\n",
    "```python\n",
    "month_name(2)\n",
    ">> 'February'\n",
    "```"
   ]
  },
  {
   "cell_type": "code",
   "execution_count": 22,
   "metadata": {},
   "outputs": [
    {
     "name": "stdout",
     "output_type": "stream",
     "text": [
      "February\n"
     ]
    }
   ],
   "source": [
    "def month_name(month):\n",
    "    months = [\n",
    "        \"January\", \"February\", \"March\", \"April\", \"May\", \"June\",\n",
    "        \"July\", \"August\", \"September\", \"October\", \"November\", \"December\"\n",
    "    ]\n",
    "    \n",
    "    if 1 <= month <= 12:\n",
    "        return months[month - 1]\n",
    "    else:\n",
    "        raise ValueError(\"Ungültige Monatsnummer. Bitte geben Sie eine Zahl zwischen 1 und 12 ein.\")\n",
    "\n",
    "print(month_name(2))"
   ]
  },
  {
   "cell_type": "markdown",
   "metadata": {},
   "source": [
    "## Monat zu Jahreszeit\n",
    "Schreibe eine Funktion `season(month)`. Diese gibt für einen Monat die zugehörige Jahreszeit als String zurück.\n",
    "\n",
    "Hierzu kannst du die Funktion `quarter(month)` verwenden. Diese berechnet aus einem Monat das zugehörige Quartal. Die Monate werden als Zahlen übergeben.\n",
    "\n",
    "Beachte, dass die Funktion `quarter(month)` in einer separaten Zelle steht. Damit diese Funktion verwendet werden kann, muss die Zelle ausgeführt worden sein.\n",
    "\n",
    "**Beispiel**\n",
    "```python\n",
    "season(3)\n",
    ">> 'Spring'\n",
    "```\n",
    "\n"
   ]
  },
  {
   "cell_type": "code",
   "execution_count": 25,
   "metadata": {},
   "outputs": [],
   "source": [
    "def quarter(month):\n",
    "    return (month%12)//3"
   ]
  },
  {
   "cell_type": "code",
   "execution_count": 34,
   "metadata": {},
   "outputs": [
    {
     "name": "stdout",
     "output_type": "stream",
     "text": [
      "Frühling\n"
     ]
    }
   ],
   "source": [
    "def season(month):\n",
    "    q = quarter(month)\n",
    "    \n",
    "    # Zuordnung der Quartale zu den Jahreszeiten\n",
    "    if q == 0:\n",
    "        return \"Winter\"\n",
    "    elif q == 1:\n",
    "        return \"Frühling\"\n",
    "    elif q == 2:\n",
    "        return \"Sommer\"\n",
    "    elif q == 3:\n",
    "        return \"Herbst\"\n",
    "    else:\n",
    "        raise ValueError(\"Ungültige Monatsnummer. Bitte geben Sie eine Zahl zwischen 1 und 12 ein.\")\n",
    "\n",
    "# Beispielaufruf\n",
    "print(season(3))"
   ]
  },
  {
   "cell_type": "markdown",
   "metadata": {},
   "source": [
    "## Tabellenpunkte\n",
    "Berechne mit einer Funktion `points(results)` für ein Fussball Team die Summe der Punkte aus allen Spielen. Ein Spiel wird als String in der Form `<Tore Team>:<Tore Gegner>` abgebildet. Für die Anzahl Punkte aus einem Spiel, gilt die folgende Regel:\n",
    "\n",
    "* Sieg: 3\n",
    "* Unentschieden: 1\n",
    "* Niederlage: 0\n",
    "\n",
    "Alle Spiele der Saison sind in einer Liste zusammen gefasst.\n",
    "\n",
    "**Beispiel**\n",
    "```python\n",
    "points(['13:1','2:2','0:1']) # 1x Gewonnen, 1x Unentschieden, 1x Niederlage\n",
    ">> 4\n",
    "```"
   ]
  },
  {
   "cell_type": "code",
   "execution_count": 35,
   "metadata": {},
   "outputs": [
    {
     "name": "stdout",
     "output_type": "stream",
     "text": [
      "4\n"
     ]
    }
   ],
   "source": [
    "def points(results):\n",
    "    total_points = 0\n",
    "    \n",
    "    for result in results:\n",
    "        team_goals, opponent_goals = map(int, result.split(':'))\n",
    "        \n",
    "        if team_goals > opponent_goals:\n",
    "            total_points += 3\n",
    "        elif team_goals == opponent_goals:\n",
    "            total_points += 1\n",
    "    \n",
    "    return total_points\n",
    "\n",
    "print(points(['13:1', '2:2', '0:1']))"
   ]
  },
  {
   "attachments": {},
   "cell_type": "markdown",
   "metadata": {},
   "source": [
    "## Länder und Hauptstädte\n",
    "Erstelle zwei gleich lange Listen:\n",
    "\n",
    "Die erste Liste enthält Ländernnamen\n",
    "`countries = ['France', 'USA', ...]`\n",
    "\n",
    "Die zweite die zugehörigen Hauptstädte:\n",
    "`capitals = ['Paris', 'Washington', ...]`\n",
    "\n",
    "Der Index für das Land und seine Hauptstadt müssen gleich sein, d.h.\n",
    "\n",
    "`countries[0] --> 'France'`\n",
    "\n",
    "`capitals[0] --> 'Paris'`\n",
    "\n",
    "Schreibe die Funktion `get_capital(country, countries, capitals)` mit der für ein Land die Hauptstadt zurückgegeben wird.\n",
    "Später sehen wir, wie dies mit *Dictionaries* einfacher gelöst wird."
   ]
  },
  {
   "cell_type": "code",
   "execution_count": 38,
   "metadata": {},
   "outputs": [
    {
     "name": "stdout",
     "output_type": "stream",
     "text": [
      "['France', 'USA', 'Italy']\n",
      "['Paris', 'Washington DC', 'Rom']\n"
     ]
    }
   ],
   "source": [
    "countries = ['France', 'USA', 'Italy']\n",
    "capitals = ['Paris', 'Washington DC', 'Rom']\n",
    "print(countries)\n",
    "print(capitals)"
   ]
  },
  {
   "cell_type": "code",
   "execution_count": 42,
   "metadata": {},
   "outputs": [
    {
     "name": "stdout",
     "output_type": "stream",
     "text": [
      "captial of Italy is Rom\n"
     ]
    }
   ],
   "source": [
    "def get_capital(country, countries, capitals):\n",
    "    try:\n",
    "        index = countries.index(country)\n",
    "        return capitals[index]\n",
    "    except ValueError:\n",
    "        return \"Land nicht gefunden\"\n",
    "\n",
    "country = 'Italy'\n",
    "captial_of_fr = get_capital(country, countries, capitals)\n",
    "print(f'captial of {country} is {captial_of_fr}')"
   ]
  },
  {
   "attachments": {},
   "cell_type": "markdown",
   "metadata": {},
   "source": [
    "### Dictionary\n",
    "Neben Listen sind Dictionaries die 2. wichtigste Datenstruktur in Python. Sie erlauben Werte zusammen mit einem Schlüssel abzulegen.\n",
    "Über den Schlüssel können die Werte (falls vorhanden) nachgeschlagen werden.\n",
    "\n",
    "Erstelle einen `dict` für die folgenden Länder und Hauptstädte:\n",
    "\n",
    "| *key* | *value* |\n",
    "|:--|:--|\n",
    "| United Kingdom | London |\n",
    "| France | Paris |\n",
    "| USA | Washington |\n",
    "| Japan | Tokyo |"
   ]
  },
  {
   "cell_type": "markdown",
   "metadata": {},
   "source": [
    "Initialisiere das Dictionary `capitals`"
   ]
  },
  {
   "cell_type": "code",
   "execution_count": 68,
   "metadata": {},
   "outputs": [],
   "source": [
    "capitals = {\n",
    "    'Vereinigtes Königreich': 'London',\n",
    "    'Frankreich': 'Paris',\n",
    "    'USA': 'Washington',\n",
    "    'Japan': 'Tokyo'\n",
    "}"
   ]
  },
  {
   "cell_type": "markdown",
   "metadata": {},
   "source": [
    "Welche Länder sind in capitals?\n",
    "\n",
    "Tipp: Keys eines Dicts können mit `keys()` auf dem Dictionary abgefragt werden."
   ]
  },
  {
   "cell_type": "code",
   "execution_count": 69,
   "metadata": {},
   "outputs": [
    {
     "name": "stdout",
     "output_type": "stream",
     "text": [
      "Länder in capitals:\n",
      "Vereinigtes Königreich\n",
      "Frankreich\n",
      "USA\n",
      "Japan\n"
     ]
    }
   ],
   "source": [
    "countries = capitals.keys()\n",
    "\n",
    "print(\"Länder in capitals:\")\n",
    "for country in countries:\n",
    "    print(country)"
   ]
  },
  {
   "cell_type": "markdown",
   "metadata": {},
   "source": [
    "Welche Hauptstädte sind in capitals?\n",
    "\n",
    "Tipp: Values eines Dicts können mit `values()` auf dem Dictionary abgefragt werden."
   ]
  },
  {
   "cell_type": "code",
   "execution_count": 70,
   "metadata": {},
   "outputs": [
    {
     "name": "stdout",
     "output_type": "stream",
     "text": [
      "Hauptstädte in capitals:\n",
      "London\n",
      "Paris\n",
      "Washington\n",
      "Tokyo\n"
     ]
    }
   ],
   "source": [
    "\n",
    "cities = capitals.values()\n",
    "\n",
    "print(\"Hauptstädte in capitals:\")\n",
    "for city in cities:\n",
    "    print(city)"
   ]
  },
  {
   "cell_type": "markdown",
   "metadata": {},
   "source": [
    "Hole mit dem `[]`-Operator einzelne Hauptstädte aus capitals.\n",
    "\n",
    "Was passiert wenn ein ungültiger Key verwendet wird?\n",
    "\n",
    "Vergleiche den `[]`-Operator mit der `get(key)` Methode auf dem Dictionary, was ist der Unterschied?"
   ]
  },
  {
   "cell_type": "code",
   "execution_count": 72,
   "metadata": {},
   "outputs": [
    {
     "name": "stdout",
     "output_type": "stream",
     "text": [
      "Hauptstadt von Frankreich: Paris\n",
      "KeyError: Der Schlüssel 'Deutschland' ist nicht im Dictionary vorhanden.\n",
      "Hauptstadt von Deutschland: Unbekannt\n"
     ]
    }
   ],
   "source": [
    "\n",
    "# Mit dem Operator arbeiten:\n",
    "capital_of_france = capitals['Frankreich']\n",
    "print(f'Hauptstadt von Frankreich: {capital_of_france}')\n",
    "\n",
    "# Verhalten bei ungültigem Schlüssel\n",
    "try:\n",
    "    capital_of_germany = capitals['Deutschland']\n",
    "except KeyError:\n",
    "    print(f\"KeyError: Der Schlüssel 'Deutschland' ist nicht im Dictionary vorhanden.\")\n",
    "\n",
    "# Verhalten bei get(key)\n",
    "capital_of_germany = capitals.get('Deutschland', 'Unbekannt')\n",
    "print(f'Hauptstadt von Deutschland: {capital_of_germany}')\n"
   ]
  },
  {
   "cell_type": "markdown",
   "metadata": {},
   "source": [
    "Schreibe eine Funktion, die alle Länder und ihre Hauptstädte mit `print()` ausgibt."
   ]
  },
  {
   "cell_type": "code",
   "execution_count": 73,
   "metadata": {},
   "outputs": [
    {
     "name": "stdout",
     "output_type": "stream",
     "text": [
      "Das Land Vereinigtes Königreich hat die Hauptstadt London.\n",
      "Das Land Frankreich hat die Hauptstadt Paris.\n",
      "Das Land USA hat die Hauptstadt Washington.\n",
      "Das Land Japan hat die Hauptstadt Tokyo.\n"
     ]
    }
   ],
   "source": [
    "def print_countries_and_capitals(capitals):\n",
    "    for country, capital in capitals.items():\n",
    "        print(f'Das Land {country} hat die Hauptstadt {capital}.')\n",
    "\n",
    "print_countries_and_capitals(capitals)"
   ]
  },
  {
   "cell_type": "markdown",
   "metadata": {},
   "source": [
    "**Verwende von nun an immer `print_capitals` um die Hauptstädte auszugeben**\n",
    "\n",
    "Füge neue Hauptstädte in `capitals` ein.\n",
    "Dies kann auch mit dem []-Operator erledigt werden:\n",
    "\n",
    "```python\n",
    "a_dict[new_key] = new_value\n",
    "```\n",
    "\n",
    "Füge 1 neue Hauptstädt mit dem []-Operator ein."
   ]
  },
  {
   "cell_type": "code",
   "execution_count": 74,
   "metadata": {},
   "outputs": [
    {
     "name": "stdout",
     "output_type": "stream",
     "text": [
      "Das Land Vereinigtes Königreich hat die Hauptstadt London.\n",
      "Das Land Frankreich hat die Hauptstadt Paris.\n",
      "Das Land USA hat die Hauptstadt Washington.\n",
      "Das Land Japan hat die Hauptstadt Tokyo.\n",
      "Das Land Germany hat die Hauptstadt Berlin.\n"
     ]
    }
   ],
   "source": [
    "def print_countries_and_capitals(capitals):\n",
    "    for country, capital in capitals.items():\n",
    "        print(f'Das Land {country} hat die Hauptstadt {capital}.')\n",
    "\n",
    "capitals['Germany'] = 'Berlin'\n",
    "\n",
    "print_countries_and_capitals(capitals)"
   ]
  },
  {
   "cell_type": "markdown",
   "metadata": {},
   "source": [
    "Weiter können auch neue Einträge mit `update()`\n",
    "\n",
    "```python\n",
    "a_dict.update(new_key=new_value)\n",
    "a_dict.update(another_dict)\n",
    "```\n",
    "\n",
    "eingefügt werden.\n",
    "\n",
    "Füge 1 weitere Hauptstadt mit dem `update` ein."
   ]
  },
  {
   "cell_type": "code",
   "execution_count": 75,
   "metadata": {},
   "outputs": [
    {
     "name": "stdout",
     "output_type": "stream",
     "text": [
      "Das Land Vereinigtes Königreich hat die Hauptstadt London.\n",
      "Das Land Frankreich hat die Hauptstadt Paris.\n",
      "Das Land USA hat die Hauptstadt Washington.\n",
      "Das Land Japan hat die Hauptstadt Tokyo.\n",
      "Das Land Germany hat die Hauptstadt Berlin.\n",
      "Das Land Kanada hat die Hauptstadt Ottawa.\n"
     ]
    }
   ],
   "source": [
    "\n",
    "capitals.update({'Kanada': 'Ottawa'})\n",
    "\n",
    "# Funktion aufrufen, um alle Länder und Hauptstädte auszugeben\n",
    "print_countries_and_capitals(capitals)"
   ]
  },
  {
   "cell_type": "markdown",
   "metadata": {},
   "source": [
    "Erstelle ein zweites Dictionary mit Länder und Städten und erweitere `capitals` mit diesem."
   ]
  },
  {
   "cell_type": "code",
   "execution_count": 76,
   "metadata": {},
   "outputs": [
    {
     "name": "stdout",
     "output_type": "stream",
     "text": [
      "Das Land Vereinigtes Königreich hat die Hauptstadt London.\n",
      "Das Land Frankreich hat die Hauptstadt Paris.\n",
      "Das Land USA hat die Hauptstadt Washington.\n",
      "Das Land Japan hat die Hauptstadt Tokyo.\n",
      "Das Land Germany hat die Hauptstadt Berlin.\n",
      "Das Land Kanada hat die Hauptstadt Ottawa.\n",
      "Das Land Spanien hat die Hauptstadt Madrid.\n",
      "Das Land Schweden hat die Hauptstadt Stockholm.\n",
      "Das Land Australien hat die Hauptstadt Canberra.\n"
     ]
    }
   ],
   "source": [
    "\n",
    "additional_capitals = {\n",
    "    'Spanien': 'Madrid',\n",
    "    'Schweden': 'Stockholm',\n",
    "    'Australien': 'Canberra'\n",
    "}\n",
    "\n",
    "capitals.update(additional_capitals)\n",
    "\n",
    "print_countries_and_capitals(capitals)"
   ]
  },
  {
   "attachments": {},
   "cell_type": "markdown",
   "metadata": {},
   "source": [
    "Lösche Key und Value für ein Land aus `capitals`."
   ]
  },
  {
   "cell_type": "code",
   "execution_count": 77,
   "metadata": {},
   "outputs": [
    {
     "name": "stdout",
     "output_type": "stream",
     "text": [
      "Das Land Vereinigtes Königreich hat die Hauptstadt London.\n",
      "Das Land Frankreich hat die Hauptstadt Paris.\n",
      "Das Land USA hat die Hauptstadt Washington.\n",
      "Das Land Japan hat die Hauptstadt Tokyo.\n",
      "Das Land Germany hat die Hauptstadt Berlin.\n",
      "Das Land Kanada hat die Hauptstadt Ottawa.\n",
      "Das Land Spanien hat die Hauptstadt Madrid.\n",
      "Das Land Australien hat die Hauptstadt Canberra.\n"
     ]
    }
   ],
   "source": [
    "\n",
    "del capitals['Schweden']\n",
    "\n",
    "print_countries_and_capitals(capitals)"
   ]
  },
  {
   "attachments": {},
   "cell_type": "markdown",
   "metadata": {},
   "source": [
    "Lösche alle Keys und Values aus `capitals`."
   ]
  },
  {
   "cell_type": "code",
   "execution_count": 78,
   "metadata": {},
   "outputs": [],
   "source": [
    "\n",
    "capitals.clear()\n",
    "\n",
    "print_countries_and_capitals(capitals)"
   ]
  }
 ],
 "metadata": {
  "kernelspec": {
   "display_name": "Python 3",
   "language": "python",
   "name": "python3"
  },
  "language_info": {
   "codemirror_mode": {
    "name": "ipython",
    "version": 3
   },
   "file_extension": ".py",
   "mimetype": "text/x-python",
   "name": "python",
   "nbconvert_exporter": "python",
   "pygments_lexer": "ipython3",
   "version": "3.13.1"
  }
 },
 "nbformat": 4,
 "nbformat_minor": 4
}
